{
  "nbformat": 4,
  "nbformat_minor": 0,
  "metadata": {
    "colab": {
      "provenance": [],
      "authorship_tag": "ABX9TyOF9VfNLa7k3HMsC6hxpu6/",
      "include_colab_link": true
    },
    "kernelspec": {
      "name": "python3",
      "display_name": "Python 3"
    },
    "language_info": {
      "name": "python"
    }
  },
  "cells": [
    {
      "cell_type": "markdown",
      "metadata": {
        "id": "view-in-github",
        "colab_type": "text"
      },
      "source": [
        "<a href=\"https://colab.research.google.com/github/SajawalHassan/digit_classifier_dl/blob/main/digit_classifier.ipynb\" target=\"_parent\"><img src=\"https://colab.research.google.com/assets/colab-badge.svg\" alt=\"Open In Colab\"/></a>"
      ]
    },
    {
      "cell_type": "markdown",
      "source": [
        "# 1. Dataset"
      ],
      "metadata": {
        "id": "Snhssj1ocY61"
      }
    },
    {
      "cell_type": "code",
      "source": [
        "import tensorflow as tf\n",
        "import numpy as np\n",
        "from tensorflow.keras import layers\n",
        "import matplotlib.pyplot as plt\n",
        "from tensorflow.keras.datasets import mnist"
      ],
      "metadata": {
        "id": "IE4CCLFtcsaA"
      },
      "execution_count": null,
      "outputs": []
    },
    {
      "cell_type": "code",
      "source": [
        "(X_train, y_train), (X_test, y_test) = mnist.load_data()\n",
        "\n",
        "# Normalize pixel values\n",
        "X_train, X_test = X_train / 255.0, X_test / 255.0"
      ],
      "metadata": {
        "id": "HkU3MoULeFwj"
      },
      "execution_count": null,
      "outputs": []
    },
    {
      "cell_type": "code",
      "source": [
        "figure, axes = plt.subplots(2, 5)\n",
        "for index, ax in enumerate(axes.ravel()):\n",
        "  if index < 10:\n",
        "    ax.imshow(X_train[index], cmap=\"gray\")\n",
        "    ax.set_title(str(y_train[index]))\n",
        "    ax.axis(\"off\")\n",
        "\n",
        "plt.show()"
      ],
      "metadata": {
        "colab": {
          "base_uri": "https://localhost:8080/",
          "height": 223
        },
        "id": "wVYChz1HehnQ",
        "outputId": "1b8eb396-e0d8-41aa-d4ec-f2bf891d733f"
      },
      "execution_count": null,
      "outputs": [
        {
          "output_type": "display_data",
          "data": {
            "text/plain": [
              "<Figure size 432x288 with 10 Axes>"
            ],
            "image/png": "[encoded data removed]"
          },
          "metadata": {
            "needs_background": "light"
          }
        }
      ]
    },
    {
      "cell_type": "markdown",
      "source": [
        "# 2. Training neural network"
      ],
      "metadata": {
        "id": "nYyErOD1triK"
      }
    },
    {
      "cell_type": "code",
      "source": [
        "X_train.shape"
      ],
      "metadata": {
        "colab": {
          "base_uri": "https://localhost:8080/"
        },
        "id": "-vGRdD3hx_H_",
        "outputId": "bf087f67-d5fa-454a-99d4-f530f56855cc"
      },
      "execution_count": null,
      "outputs": [
        {
          "output_type": "execute_result",
          "data": {
            "text/plain": [
              "(60000, 28, 28)"
            ]
          },
          "metadata": {},
          "execution_count": 155
        }
      ]
    },
    {
      "cell_type": "code",
      "source": [
        "model = tf.keras.Sequential()\n",
        "model.add(layers.Conv2D(32, (3, 3), activation=\"relu\", input_shape=(28, 28, 1)))\n",
        "model.add(layers.MaxPooling2D((2, 2)))\n",
        "model.add(layers.Conv2D(64, (3, 3), activation=\"relu\"))\n",
        "model.add(layers.MaxPooling2D((2, 2)))\n",
        "model.add(layers.Conv2D(64, (3, 3), activation=\"relu\"))\n",
        "model.add(layers.MaxPooling2D((2, 2)))\n",
        "\n",
        "model.add(layers.Flatten())\n",
        "model.add(layers.Dense(64, activation='relu'))\n",
        "model.add(layers.Dense(10))\n",
        "\n",
        "model.summary()"
      ],
      "metadata": {
        "colab": {
          "base_uri": "https://localhost:8080/"
        },
        "id": "SlkjFVx6tujY",
        "outputId": "0859eb89-533c-4153-9649-d2e9b8bdaef7"
      },
      "execution_count": null,
      "outputs": [
        {
          "output_type": "stream",
          "name": "stdout",
          "text": [
            "Model: \"sequential_12\"\n",
            "_________________________________________________________________\n",
            " Layer (type)                Output Shape              Param #   \n",
            "=================================================================\n",
            " conv2d_31 (Conv2D)          (None, 26, 26, 32)        320       \n",
            "                                                                 \n",
            " max_pooling2d_31 (MaxPoolin  (None, 13, 13, 32)       0         \n",
            " g2D)                                                            \n",
            "                                                                 \n",
            " conv2d_32 (Conv2D)          (None, 11, 11, 64)        18496     \n",
            "                                                                 \n",
            " max_pooling2d_32 (MaxPoolin  (None, 5, 5, 64)         0         \n",
            " g2D)                                                            \n",
            "                                                                 \n",
            " conv2d_33 (Conv2D)          (None, 3, 3, 64)          36928     \n",
            "                                                                 \n",
            " max_pooling2d_33 (MaxPoolin  (None, 1, 1, 64)         0         \n",
            " g2D)                                                            \n",
            "                                                                 \n",
            " flatten_9 (Flatten)         (None, 64)                0         \n",
            "                                                                 \n",
            " dense_18 (Dense)            (None, 64)                4160      \n",
            "                                                                 \n",
            " dense_19 (Dense)            (None, 10)                650       \n",
            "                                                                 \n",
            "=================================================================\n",
            "Total params: 60,554\n",
            "Trainable params: 60,554\n",
            "Non-trainable params: 0\n",
            "_________________________________________________________________\n"
          ]
        }
      ]
    },
    {
      "cell_type": "code",
      "source": [
        "model.compile(optimizer='adam',\n",
        "              loss=tf.keras.losses.SparseCategoricalCrossentropy(from_logits=True),\n",
        "              metrics=['accuracy'])"
      ],
      "metadata": {
        "id": "2tHWyU_T2NCF"
      },
      "execution_count": null,
      "outputs": []
    },
    {
      "cell_type": "code",
      "source": [
        "history = model.fit(X_train, y_train, epochs=10, \n",
        "                    validation_data=(X_test, y_test))"
      ],
      "metadata": {
        "colab": {
          "base_uri": "https://localhost:8080/"
        },
        "id": "Lz3yS_Ul2nnz",
        "outputId": "c2529f3c-125b-484f-af84-7bec7c2c8595"
      },
      "execution_count": null,
      "outputs": [
        {
          "output_type": "stream",
          "name": "stdout",
          "text": [
            "Epoch 1/10\n",
            "1875/1875 [==============================] - 64s 34ms/step - loss: 0.2148 - accuracy: 0.9330 - val_loss: 0.0976 - val_accuracy: 0.9716\n",
            "Epoch 2/10\n",
            "1875/1875 [==============================] - 61s 32ms/step - loss: 0.0728 - accuracy: 0.9775 - val_loss: 0.0846 - val_accuracy: 0.9743\n",
            "Epoch 3/10\n",
            "1875/1875 [==============================] - 61s 33ms/step - loss: 0.0522 - accuracy: 0.9838 - val_loss: 0.0615 - val_accuracy: 0.9828\n",
            "Epoch 4/10\n",
            "1875/1875 [==============================] - 63s 33ms/step - loss: 0.0399 - accuracy: 0.9877 - val_loss: 0.0540 - val_accuracy: 0.9845\n",
            "Epoch 5/10\n",
            "1875/1875 [==============================] - 61s 33ms/step - loss: 0.0327 - accuracy: 0.9895 - val_loss: 0.0477 - val_accuracy: 0.9845\n",
            "Epoch 6/10\n",
            "1875/1875 [==============================] - 60s 32ms/step - loss: 0.0262 - accuracy: 0.9917 - val_loss: 0.0451 - val_accuracy: 0.9876\n",
            "Epoch 7/10\n",
            "1875/1875 [==============================] - 60s 32ms/step - loss: 0.0221 - accuracy: 0.9929 - val_loss: 0.0423 - val_accuracy: 0.9891\n",
            "Epoch 8/10\n",
            "1875/1875 [==============================] - 62s 33ms/step - loss: 0.0195 - accuracy: 0.9935 - val_loss: 0.0464 - val_accuracy: 0.9872\n",
            "Epoch 9/10\n",
            "1875/1875 [==============================] - 61s 32ms/step - loss: 0.0139 - accuracy: 0.9953 - val_loss: 0.0461 - val_accuracy: 0.9898\n",
            "Epoch 10/10\n",
            "1875/1875 [==============================] - 60s 32ms/step - loss: 0.0131 - accuracy: 0.9955 - val_loss: 0.0602 - val_accuracy: 0.9854\n"
          ]
        }
      ]
    },
    {
      "cell_type": "markdown",
      "source": [
        "# 3. Evaluating model"
      ],
      "metadata": {
        "id": "tM1pLQGpPnB1"
      }
    },
    {
      "cell_type": "code",
      "source": [
        "figure, axes = plt.subplots(1, 2, figsize=(15, 5))\n",
        "val_metrics_list = [\"val_accuracy\", \"val_loss\"]\n",
        "for index, ax in enumerate(axes.ravel()):\n",
        "  ax.plot(history.history[val_metrics_list[index]])\n",
        "  ax.set_title(val_metrics_list[index])\n",
        "  ax.set_ylabel(val_metrics_list[index])\n",
        "  ax.set_xlabel(\"Epochs\")\n",
        "\n",
        "plt.show()"
      ],
      "metadata": {
        "colab": {
          "base_uri": "https://localhost:8080/",
          "height": 350
        },
        "id": "UYRDWZCU3cKX",
        "outputId": "dc0ef06c-9f6f-4101-acde-8d506e0c040c"
      },
      "execution_count": null,
      "outputs": [
        {
          "output_type": "display_data",
          "data": {
            "text/plain": [
              "<Figure size 1080x360 with 2 Axes>"
            ],
            "image/png": "[encoded data removed]"
          },
          "metadata": {
            "needs_background": "light"
          }
        }
      ]
    },
    {
      "cell_type": "code",
      "source": [
        "test_loss, test_accuracy = model.evaluate(X_test, y_test, verbose=2)"
      ],
      "metadata": {
        "colab": {
          "base_uri": "https://localhost:8080/"
        },
        "id": "_1zqpTbrIzra",
        "outputId": "1285a194-bac8-45ea-df01-4cc8eaca1bf8"
      },
      "execution_count": null,
      "outputs": [
        {
          "output_type": "stream",
          "name": "stdout",
          "text": [
            "313/313 - 3s - loss: 0.0602 - accuracy: 0.9854 - 3s/epoch - 9ms/step\n"
          ]
        }
      ]
    },
    {
      "cell_type": "code",
      "source": [
        "print(f\"Loss: {test_loss} & Accuracy: {test_accuracy}\")"
      ],
      "metadata": {
        "colab": {
          "base_uri": "https://localhost:8080/"
        },
        "id": "Vd2OQfLQJAD7",
        "outputId": "c444b858-c128-4d35-a569-8ac6e593abf7"
      },
      "execution_count": null,
      "outputs": [
        {
          "output_type": "stream",
          "name": "stdout",
          "text": [
            "Loss: 0.06024239584803581 & Accuracy: 0.9854000210762024\n"
          ]
        }
      ]
    },
    {
      "cell_type": "markdown",
      "source": [
        "# 4. Predicting with model"
      ],
      "metadata": {
        "id": "thMRfiOuPrmX"
      }
    },
    {
      "cell_type": "code",
      "source": [
        "num_images_predict = 20\n",
        "\n",
        "# Predict\n",
        "y_pred = model.predict(X_test[:num_images_predict])\n",
        "\n",
        "# get the predicted class for each input by taking index for the biggest values\n",
        "y_pred_class = np.argmax(y_pred, axis=1)"
      ],
      "metadata": {
        "colab": {
          "base_uri": "https://localhost:8080/"
        },
        "id": "BKn3yQakK3bd",
        "outputId": "21a8f84f-2dd6-461d-930b-4bec0faa06cc"
      },
      "execution_count": null,
      "outputs": [
        {
          "output_type": "stream",
          "name": "stdout",
          "text": [
            "1/1 [==============================] - 0s 103ms/step\n"
          ]
        }
      ]
    },
    {
      "cell_type": "code",
      "source": [
        "y_pred_class"
      ],
      "metadata": {
        "colab": {
          "base_uri": "https://localhost:8080/"
        },
        "id": "WGXzETrjLHtn",
        "outputId": "b8844f82-5190-4f46-f7f6-26377308dae8"
      },
      "execution_count": null,
      "outputs": [
        {
          "output_type": "execute_result",
          "data": {
            "text/plain": [
              "array([7, 2, 1, 0, 4, 1, 4, 9, 5, 9, 0, 6, 9, 0, 1, 5, 9, 7, 3, 4])"
            ]
          },
          "metadata": {},
          "execution_count": 171
        }
      ]
    },
    {
      "cell_type": "code",
      "source": [
        "# Plotting predictions with images and labels. {Predicted value | True value}\n",
        "\n",
        "figure, axes = plt.subplots(2, 10, figsize=(20, 5))\n",
        "for index, ax in enumerate(axes.ravel()):\n",
        "  if index < num_images_predict:\n",
        "    ax.imshow(X_test[index], cmap=\"gray\")\n",
        "    ax.set_title(f\"{str(y_pred_class[index])} | {str(y_test[index])}\", fontsize=16)\n",
        "    ax.axis(\"off\")\n",
        "\n",
        "plt.show()"
      ],
      "metadata": {
        "colab": {
          "base_uri": "https://localhost:8080/",
          "height": 292
        },
        "id": "sBNgXlsjJK-x",
        "outputId": "6ac71c4d-9072-45ee-ae61-2f9d4430dff7"
      },
      "execution_count": null,
      "outputs": [
        {
          "output_type": "display_data",
          "data": {
            "text/plain": [
              "<Figure size 1440x360 with 20 Axes>"
            ],
            "image/png": "[encoded data removed]"
          },
          "metadata": {
            "needs_background": "light"
          }
        }
      ]
    },
    {
      "cell_type": "markdown",
      "source": [
        "# 5. Save and load model"
      ],
      "metadata": {
        "id": "cPLjEZ8VOFLl"
      }
    },
    {
      "cell_type": "code",
      "source": [
        "model.save('model/digit_classifier')"
      ],
      "metadata": {
        "colab": {
          "base_uri": "https://localhost:8080/"
        },
        "id": "zsVb-vHSZZqT",
        "outputId": "19a5ed6b-8af9-4672-86df-603c307f466f"
      },
      "execution_count": null,
      "outputs": [
        {
          "output_type": "stream",
          "name": "stderr",
          "text": [
            "WARNING:absl:Found untraced functions such as _jit_compiled_convolution_op, _jit_compiled_convolution_op, _jit_compiled_convolution_op, _update_step_xla while saving (showing 4 of 4). These functions will not be directly callable after loading.\n"
          ]
        }
      ]
    },
    {
      "cell_type": "code",
      "source": [
        "digit_classifier_trained_model = tf.keras.models.load_model(\"./model/digit_classifier\")\n",
        "\n",
        "digit_classifier_trained_model.summary()"
      ],
      "metadata": {
        "colab": {
          "base_uri": "https://localhost:8080/"
        },
        "id": "3-3QBOpsaHAy",
        "outputId": "611c5060-29e4-4c6c-e2e0-37d30e0e246c"
      },
      "execution_count": null,
      "outputs": [
        {
          "output_type": "stream",
          "name": "stdout",
          "text": [
            "Model: \"sequential_12\"\n",
            "_________________________________________________________________\n",
            " Layer (type)                Output Shape              Param #   \n",
            "=================================================================\n",
            " conv2d_31 (Conv2D)          (None, 26, 26, 32)        320       \n",
            "                                                                 \n",
            " max_pooling2d_31 (MaxPoolin  (None, 13, 13, 32)       0         \n",
            " g2D)                                                            \n",
            "                                                                 \n",
            " conv2d_32 (Conv2D)          (None, 11, 11, 64)        18496     \n",
            "                                                                 \n",
            " max_pooling2d_32 (MaxPoolin  (None, 5, 5, 64)         0         \n",
            " g2D)                                                            \n",
            "                                                                 \n",
            " conv2d_33 (Conv2D)          (None, 3, 3, 64)          36928     \n",
            "                                                                 \n",
            " max_pooling2d_33 (MaxPoolin  (None, 1, 1, 64)         0         \n",
            " g2D)                                                            \n",
            "                                                                 \n",
            " flatten_9 (Flatten)         (None, 64)                0         \n",
            "                                                                 \n",
            " dense_18 (Dense)            (None, 64)                4160      \n",
            "                                                                 \n",
            " dense_19 (Dense)            (None, 10)                650       \n",
            "                                                                 \n",
            "=================================================================\n",
            "Total params: 60,554\n",
            "Trainable params: 60,554\n",
            "Non-trainable params: 0\n",
            "_________________________________________________________________\n"
          ]
        }
      ]
    },
    {
      "cell_type": "markdown",
      "source": [
        "# 6. Download model"
      ],
      "metadata": {
        "id": "03w-OdLga3fZ"
      }
    },
    {
      "cell_type": "code",
      "source": [
        "!rm -fr log.zip"
      ],
      "metadata": {
        "id": "SJ0W0Ma3buET"
      },
      "execution_count": null,
      "outputs": []
    },
    {
      "cell_type": "code",
      "source": [
        "# Zip folder\n",
        "!zip -r digit_classifier.zip model/digit_classifier/\n",
        "\n",
        "# Then just right click on the file and click download"
      ],
      "metadata": {
        "colab": {
          "base_uri": "https://localhost:8080/"
        },
        "id": "jOYY_UgXbfZJ",
        "outputId": "756c6b57-e5b1-4b72-a958-6bb577d41ee8"
      },
      "execution_count": null,
      "outputs": [
        {
          "output_type": "stream",
          "name": "stdout",
          "text": [
            "  adding: model/digit_classifier/ (stored 0%)\n",
            "  adding: model/digit_classifier/keras_metadata.pb (deflated 91%)\n",
            "  adding: model/digit_classifier/fingerprint.pb (stored 0%)\n",
            "  adding: model/digit_classifier/saved_model.pb (deflated 89%)\n",
            "  adding: model/digit_classifier/variables/ (stored 0%)\n",
            "  adding: model/digit_classifier/variables/variables.index (deflated 64%)\n",
            "  adding: model/digit_classifier/variables/variables.data-00000-of-00001 (deflated 7%)\n",
            "  adding: model/digit_classifier/assets/ (stored 0%)\n"
          ]
        }
      ]
    },
    {
      "cell_type": "code",
      "source": [],
      "metadata": {
        "id": "eOh8A2xMbr83"
      },
      "execution_count": null,
      "outputs": []
    }
  ]
}